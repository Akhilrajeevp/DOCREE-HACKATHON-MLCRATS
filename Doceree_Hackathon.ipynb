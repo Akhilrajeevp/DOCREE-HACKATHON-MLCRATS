{
  "cells": [
    {
      "cell_type": "code",
      "execution_count": 1,
      "metadata": {
        "colab": {
          "base_uri": "https://localhost:8080/"
        },
        "id": "JnYbEfy6VnMy",
        "outputId": "61720cb9-387d-4fd8-9863-365215c7fc0e"
      },
      "outputs": [
        {
          "output_type": "stream",
          "name": "stderr",
          "text": [
            "/usr/local/lib/python3.10/dist-packages/sklearn/experimental/enable_hist_gradient_boosting.py:16: UserWarning: Since version 1.0, it is not needed to import enable_hist_gradient_boosting anymore. HistGradientBoostingClassifier and HistGradientBoostingRegressor are now stable and can be normally imported from sklearn.ensemble.\n",
            "  warnings.warn(\n"
          ]
        }
      ],
      "source": [
        "import pandas as pd\n",
        "from sklearn.ensemble import RandomForestClassifier\n",
        "from sklearn.preprocessing import LabelEncoder\n",
        "from sklearn.feature_extraction.text import TfidfVectorizer\n",
        "from sklearn.model_selection import train_test_split\n",
        "from sklearn.metrics import classification_report, accuracy_score\n",
        "from sklearn.ensemble import HistGradientBoostingClassifier\n",
        "from sklearn.experimental import enable_hist_gradient_boosting\n",
        "from sklearn.model_selection import RepeatedKFold\n",
        "from sklearn.model_selection import cross_val_score\n",
        "\n",
        "import xgboost\n",
        "# !pip install catboost\n",
        "# import catboost\n",
        "\n"
      ]
    },
    {
      "cell_type": "code",
      "source": [
        "from google.colab import drive\n",
        "drive.mount('/content/drive')"
      ],
      "metadata": {
        "colab": {
          "base_uri": "https://localhost:8080/"
        },
        "id": "gUzIpfbxZLNm",
        "outputId": "2a5ab7d6-db69-4f64-dc62-fe751c8b93b3"
      },
      "execution_count": 2,
      "outputs": [
        {
          "output_type": "stream",
          "name": "stdout",
          "text": [
            "Mounted at /content/drive\n"
          ]
        }
      ]
    },
    {
      "cell_type": "code",
      "source": [
        "# check xgboost version\n",
        "print(xgboost.__version__)"
      ],
      "metadata": {
        "colab": {
          "base_uri": "https://localhost:8080/"
        },
        "id": "y0I5PFZ_YYl6",
        "outputId": "016caea6-25bf-44fd-f868-edc5a76a1f83"
      },
      "execution_count": 3,
      "outputs": [
        {
          "output_type": "stream",
          "name": "stdout",
          "text": [
            "1.7.6\n"
          ]
        }
      ]
    },
    {
      "cell_type": "code",
      "source": [],
      "metadata": {
        "id": "wrPD9PPjYYf8"
      },
      "execution_count": 3,
      "outputs": []
    },
    {
      "cell_type": "code",
      "source": [
        "train_data = pd.read_csv('/content/drive/MyDrive/Doceree hackathon/Dataset/Doceree-HCP_Train.csv',encoding='unicode_escape', on_bad_lines='skip')\n",
        "test_data = pd.read_csv('/content/drive/MyDrive/Doceree hackathon/Dataset/Doceree-HCP_Test.csv',encoding='unicode_escape', on_bad_lines='skip')\n"
      ],
      "metadata": {
        "id": "WFkGj8gNFOeq"
      },
      "execution_count": 4,
      "outputs": []
    },
    {
      "cell_type": "code",
      "source": [
        "train_data.info()"
      ],
      "metadata": {
        "colab": {
          "base_uri": "https://localhost:8080/"
        },
        "id": "jKgCCgvJFpn2",
        "outputId": "f7333963-21b2-4716-a379-96fd1c4f74a3"
      },
      "execution_count": 5,
      "outputs": [
        {
          "output_type": "stream",
          "name": "stdout",
          "text": [
            "<class 'pandas.core.frame.DataFrame'>\n",
            "RangeIndex: 113937 entries, 0 to 113936\n",
            "Data columns (total 14 columns):\n",
            " #   Column           Non-Null Count   Dtype  \n",
            "---  ------           --------------   -----  \n",
            " 0   ID               113937 non-null  int64  \n",
            " 1   DEVICETYPE       113937 non-null  object \n",
            " 2   PLATFORM_ID      113937 non-null  int64  \n",
            " 3   BIDREQUESTIP     113937 non-null  object \n",
            " 4   USERPLATFORMUID  113933 non-null  object \n",
            " 5   USERCITY         107578 non-null  object \n",
            " 6   USERZIPCODE      109345 non-null  float64\n",
            " 7   USERAGENT        113935 non-null  object \n",
            " 8   PLATFORMTYPE     113937 non-null  object \n",
            " 9   CHANNELTYPE      113937 non-null  object \n",
            " 10  URL              113937 non-null  object \n",
            " 11  KEYWORDS         113937 non-null  object \n",
            " 12  TAXONOMY         32313 non-null   object \n",
            " 13  IS_HCP           113936 non-null  float64\n",
            "dtypes: float64(2), int64(2), object(10)\n",
            "memory usage: 12.2+ MB\n"
          ]
        }
      ]
    },
    {
      "cell_type": "code",
      "source": [
        "test_data.info()"
      ],
      "metadata": {
        "colab": {
          "base_uri": "https://localhost:8080/"
        },
        "id": "bSpcPSK5FtbL",
        "outputId": "13e43b54-31ad-4e8c-fe98-12d6a0ce71b6"
      },
      "execution_count": 6,
      "outputs": [
        {
          "output_type": "stream",
          "name": "stdout",
          "text": [
            "<class 'pandas.core.frame.DataFrame'>\n",
            "RangeIndex: 28493 entries, 0 to 28492\n",
            "Data columns (total 12 columns):\n",
            " #   Column           Non-Null Count  Dtype  \n",
            "---  ------           --------------  -----  \n",
            " 0   ID               28493 non-null  int64  \n",
            " 1   DEVICETYPE       28493 non-null  object \n",
            " 2   PLATFORM_ID      28493 non-null  int64  \n",
            " 3   BIDREQUESTIP     28493 non-null  object \n",
            " 4   USERPLATFORMUID  28493 non-null  object \n",
            " 5   USERCITY         26934 non-null  object \n",
            " 6   USERZIPCODE      27378 non-null  float64\n",
            " 7   USERAGENT        28492 non-null  object \n",
            " 8   PLATFORMTYPE     28493 non-null  object \n",
            " 9   CHANNELTYPE      28493 non-null  object \n",
            " 10  URL              28493 non-null  object \n",
            " 11  KEYWORDS         28493 non-null  object \n",
            "dtypes: float64(1), int64(2), object(9)\n",
            "memory usage: 2.6+ MB\n"
          ]
        }
      ]
    },
    {
      "cell_type": "code",
      "source": [
        "print(train_data.shape, test_data.shape)"
      ],
      "metadata": {
        "colab": {
          "base_uri": "https://localhost:8080/"
        },
        "id": "3RXjh1BRF3IL",
        "outputId": "86b81157-b850-4081-c123-0f0a40f7f965"
      },
      "execution_count": 7,
      "outputs": [
        {
          "output_type": "stream",
          "name": "stdout",
          "text": [
            "(113937, 14) (28493, 12)\n"
          ]
        }
      ]
    },
    {
      "cell_type": "code",
      "source": [],
      "metadata": {
        "id": "wxO_gUCVF3Fl"
      },
      "execution_count": 7,
      "outputs": []
    },
    {
      "cell_type": "code",
      "source": [],
      "metadata": {
        "id": "iH6sVNLkF3DV"
      },
      "execution_count": 7,
      "outputs": []
    },
    {
      "cell_type": "code",
      "source": [],
      "metadata": {
        "id": "fl9Ef4PtF3Ap"
      },
      "execution_count": 7,
      "outputs": []
    },
    {
      "cell_type": "code",
      "execution_count": 8,
      "metadata": {
        "colab": {
          "base_uri": "https://localhost:8080/"
        },
        "id": "iDd1ZCDzA6nK",
        "outputId": "cc009150-9e26-484f-d3c1-0594c5f7a958"
      },
      "outputs": [
        {
          "output_type": "execute_result",
          "data": {
            "text/plain": [
              "1"
            ]
          },
          "metadata": {},
          "execution_count": 8
        }
      ],
      "source": [
        "train_data['IS_HCP'].isnull().sum()"
      ]
    },
    {
      "cell_type": "code",
      "execution_count": 9,
      "metadata": {
        "id": "Ad786eixA6nL"
      },
      "outputs": [],
      "source": [
        "train_data.loc[train_data[\"IS_HCP\"].isnull()]\n",
        "\n",
        "# Calculating the outliers\n",
        "Q1 = train_data['IS_HCP'].quantile(0.25)\n",
        "Q3 = train_data['IS_HCP'].quantile(0.75)\n",
        "IQR = Q3 - Q1\n",
        "lower_limit = Q1 - 1.5*IQR\n",
        "upper_limit = Q3 + 1.5*IQR\n",
        "\n",
        "# Removing the outliers\n",
        "train_data = train_data[(train_data['IS_HCP'] > lower_limit) & (train_data['IS_HCP'] < upper_limit)]"
      ]
    },
    {
      "cell_type": "code",
      "source": [
        "train_data.isnull().sum()"
      ],
      "metadata": {
        "colab": {
          "base_uri": "https://localhost:8080/"
        },
        "id": "OEi-zTQuGAJS",
        "outputId": "b8a75596-f407-4133-fd52-f31b68a1e5be"
      },
      "execution_count": 10,
      "outputs": [
        {
          "output_type": "execute_result",
          "data": {
            "text/plain": [
              "ID                     0\n",
              "DEVICETYPE             0\n",
              "PLATFORM_ID            0\n",
              "BIDREQUESTIP           0\n",
              "USERPLATFORMUID        4\n",
              "USERCITY            6359\n",
              "USERZIPCODE         4592\n",
              "USERAGENT              2\n",
              "PLATFORMTYPE           0\n",
              "CHANNELTYPE            0\n",
              "URL                    0\n",
              "KEYWORDS               0\n",
              "TAXONOMY           81623\n",
              "IS_HCP                 0\n",
              "dtype: int64"
            ]
          },
          "metadata": {},
          "execution_count": 10
        }
      ]
    },
    {
      "cell_type": "code",
      "execution_count": 11,
      "metadata": {
        "id": "rInT-XJIA6nL"
      },
      "outputs": [],
      "source": [
        "\n",
        "# Encode categorical columns\n",
        "categorical_cols = [\"DEVICETYPE\", \"USERPLATFORMUID\", \"USERCITY\", \"USERAGENT\", \"PLATFORMTYPE\", \"CHANNELTYPE\"]\n",
        "label_encoder = LabelEncoder()\n",
        "for col in categorical_cols:\n",
        "    if col in train_data.columns:\n",
        "        train_data[col] = label_encoder.fit_transform(train_data[col])"
      ]
    },
    {
      "cell_type": "code",
      "source": [
        "train_data.columns"
      ],
      "metadata": {
        "colab": {
          "base_uri": "https://localhost:8080/"
        },
        "id": "EjClGRvsO18-",
        "outputId": "bad8530b-41b5-4824-f66c-4cd7c17ea593"
      },
      "execution_count": 12,
      "outputs": [
        {
          "output_type": "execute_result",
          "data": {
            "text/plain": [
              "Index(['ID', 'DEVICETYPE', 'PLATFORM_ID', 'BIDREQUESTIP', 'USERPLATFORMUID',\n",
              "       'USERCITY', 'USERZIPCODE', 'USERAGENT', 'PLATFORMTYPE', 'CHANNELTYPE',\n",
              "       'URL', 'KEYWORDS', 'TAXONOMY', 'IS_HCP'],\n",
              "      dtype='object')"
            ]
          },
          "metadata": {},
          "execution_count": 12
        }
      ]
    },
    {
      "cell_type": "code",
      "source": [],
      "metadata": {
        "id": "cICX2xwWO8Fg"
      },
      "execution_count": 12,
      "outputs": []
    },
    {
      "cell_type": "code",
      "source": [
        "# Function to convert IP to int\n",
        "def ip_to_int(ip_str):\n",
        "    octets = ip_str.split('.')\n",
        "    return int(octets[0]) << 24 | int(octets[1]) << 16 | int(octets[2]) << 8 | int(octets[3])"
      ],
      "metadata": {
        "id": "vRGfdN3rGJsb"
      },
      "execution_count": 13,
      "outputs": []
    },
    {
      "cell_type": "code",
      "source": [
        "train_data['BIDREQUESTIP']"
      ],
      "metadata": {
        "colab": {
          "base_uri": "https://localhost:8080/"
        },
        "id": "82Zj7HuDGJmy",
        "outputId": "dbc7f48f-4d50-4990-d761-0cca6d680612"
      },
      "execution_count": 14,
      "outputs": [
        {
          "output_type": "execute_result",
          "data": {
            "text/plain": [
              "0           170.173.0.22\n",
              "1          65.216.253.25\n",
              "2           66.232.79.22\n",
              "3         137.54.125.246\n",
              "4         174.202.231.99\n",
              "               ...      \n",
              "113932      68.82.97.126\n",
              "113933    104.172.11.109\n",
              "113934     174.21.94.113\n",
              "113935    69.253.129.131\n",
              "113936    108.41.233.175\n",
              "Name: BIDREQUESTIP, Length: 113936, dtype: object"
            ]
          },
          "metadata": {},
          "execution_count": 14
        }
      ]
    },
    {
      "cell_type": "code",
      "execution_count": 15,
      "metadata": {
        "id": "7-p6Rc7SA6nM"
      },
      "outputs": [],
      "source": [
        "# Convert IP addresses to integers\n",
        "train_data['BIDREQUESTIP'] = train_data['BIDREQUESTIP'].apply(ip_to_int)"
      ]
    },
    {
      "cell_type": "code",
      "source": [
        "train_data.isnull().sum()"
      ],
      "metadata": {
        "colab": {
          "base_uri": "https://localhost:8080/"
        },
        "id": "-Do1xgCkGOgO",
        "outputId": "0ed8dcde-e0d9-4468-d93c-5969a6a95542"
      },
      "execution_count": 16,
      "outputs": [
        {
          "output_type": "execute_result",
          "data": {
            "text/plain": [
              "ID                     0\n",
              "DEVICETYPE             0\n",
              "PLATFORM_ID            0\n",
              "BIDREQUESTIP           0\n",
              "USERPLATFORMUID        0\n",
              "USERCITY               0\n",
              "USERZIPCODE         4592\n",
              "USERAGENT              0\n",
              "PLATFORMTYPE           0\n",
              "CHANNELTYPE            0\n",
              "URL                    0\n",
              "KEYWORDS               0\n",
              "TAXONOMY           81623\n",
              "IS_HCP                 0\n",
              "dtype: int64"
            ]
          },
          "metadata": {},
          "execution_count": 16
        }
      ]
    },
    {
      "cell_type": "code",
      "source": [
        "# from geopy.geocoders import Nominatim\n",
        "# geolocator = Nominatim(user_agent=\"geocoder\")\n",
        "\n",
        "# for index, row in temp.iterrows():\n",
        "#     if pd.isnull(row[\"USERCITY\"]):\n",
        "#         zipcode = row[\"USERZIPCODE\"]\n",
        "#         location = geolocator.geocode(zipcode)\n",
        "#         if location is not None:\n",
        "#             address = location.address\n",
        "#             address_parts = address.split(\",\")\n",
        "#             if len(address_parts) >= 3:\n",
        "#                 city = address_parts[-3].strip()\n",
        "#                 temp.at[index, \"USERCITY\"] = city"
      ],
      "metadata": {
        "id": "NE_Y1cc2Gf7w"
      },
      "execution_count": 17,
      "outputs": []
    },
    {
      "cell_type": "code",
      "execution_count": 18,
      "metadata": {
        "id": "yF6MyxkBA6nM"
      },
      "outputs": [],
      "source": [
        "# Drop the URL and TAXONOMY column\n",
        "if 'URL' in train_data.columns:\n",
        "    train_data = train_data.drop(columns=['URL'])\n",
        "if 'TAXONOMY' in train_data.columns:\n",
        "    train_data = train_data.drop(columns=['TAXONOMY'])"
      ]
    },
    {
      "cell_type": "code",
      "execution_count": 19,
      "metadata": {
        "id": "IjotPhvyA6nM"
      },
      "outputs": [],
      "source": [
        "# Vectorize 'KEYWORDS' column\n",
        "vectorizer = TfidfVectorizer()\n",
        "vectorizer.fit(train_data['KEYWORDS'])\n",
        "vector = vectorizer.transform(train_data['KEYWORDS'])\n",
        "tfidf_data = pd.DataFrame(vector.toarray(), columns=vectorizer.get_feature_names_out())"
      ]
    },
    {
      "cell_type": "code",
      "execution_count": 20,
      "metadata": {
        "id": "Y4Q42_RuA6nM"
      },
      "outputs": [],
      "source": [
        "# Drop the original 'KEYWORDS' column and combine with processed text data\n",
        "train_data = train_data.drop(columns=['KEYWORDS'])\n",
        "train_data = pd.concat([train_data, tfidf_data], axis=1)"
      ]
    },
    {
      "cell_type": "code",
      "execution_count": 21,
      "metadata": {
        "id": "QqpQPzQEA6nN"
      },
      "outputs": [],
      "source": [
        "# Split data into features and target variable\n",
        "X = train_data.drop(columns=['ID', 'IS_HCP'])\n",
        "y = train_data['IS_HCP']  # Assuming 'IS_HCP' is the target variable"
      ]
    },
    {
      "cell_type": "code",
      "execution_count": 22,
      "metadata": {
        "colab": {
          "base_uri": "https://localhost:8080/"
        },
        "id": "eEBipUocA6nN",
        "outputId": "05327ae5-90d3-48ce-e0cf-69e4553170b1"
      },
      "outputs": [
        {
          "output_type": "execute_result",
          "data": {
            "text/plain": [
              "1"
            ]
          },
          "metadata": {},
          "execution_count": 22
        }
      ],
      "source": [
        "y.isnull().sum()"
      ]
    },
    {
      "cell_type": "code",
      "execution_count": 23,
      "metadata": {
        "id": "HKeej3PbA6nN"
      },
      "outputs": [],
      "source": [
        "\n",
        "\n",
        "# Drop rows where target variable is NaN\n",
        "X = X[~y.isna()]\n",
        "y = y.dropna()"
      ]
    },
    {
      "cell_type": "code",
      "source": [
        "# Set the ID as the index\n",
        "train_data.set_index('ID', inplace=True)\n",
        "\n",
        "# Split data into training and validation sets\n",
        "X_train, X_val, y_train, y_val = train_test_split(X, y, test_size=0.2, random_state=42)"
      ],
      "metadata": {
        "id": "SYzsAy_EbEqa"
      },
      "execution_count": 24,
      "outputs": []
    },
    {
      "cell_type": "code",
      "execution_count": null,
      "metadata": {
        "colab": {
          "base_uri": "https://localhost:8080/",
          "height": 74
        },
        "id": "vvOPIAr0A6nN",
        "outputId": "e97e4a72-6eab-4108-b770-272fbeef2b56"
      },
      "outputs": [
        {
          "output_type": "execute_result",
          "data": {
            "text/plain": [
              "HistGradientBoostingClassifier()"
            ],
            "text/html": [
              "<style>#sk-container-id-1 {color: black;background-color: white;}#sk-container-id-1 pre{padding: 0;}#sk-container-id-1 div.sk-toggleable {background-color: white;}#sk-container-id-1 label.sk-toggleable__label {cursor: pointer;display: block;width: 100%;margin-bottom: 0;padding: 0.3em;box-sizing: border-box;text-align: center;}#sk-container-id-1 label.sk-toggleable__label-arrow:before {content: \"▸\";float: left;margin-right: 0.25em;color: #696969;}#sk-container-id-1 label.sk-toggleable__label-arrow:hover:before {color: black;}#sk-container-id-1 div.sk-estimator:hover label.sk-toggleable__label-arrow:before {color: black;}#sk-container-id-1 div.sk-toggleable__content {max-height: 0;max-width: 0;overflow: hidden;text-align: left;background-color: #f0f8ff;}#sk-container-id-1 div.sk-toggleable__content pre {margin: 0.2em;color: black;border-radius: 0.25em;background-color: #f0f8ff;}#sk-container-id-1 input.sk-toggleable__control:checked~div.sk-toggleable__content {max-height: 200px;max-width: 100%;overflow: auto;}#sk-container-id-1 input.sk-toggleable__control:checked~label.sk-toggleable__label-arrow:before {content: \"▾\";}#sk-container-id-1 div.sk-estimator input.sk-toggleable__control:checked~label.sk-toggleable__label {background-color: #d4ebff;}#sk-container-id-1 div.sk-label input.sk-toggleable__control:checked~label.sk-toggleable__label {background-color: #d4ebff;}#sk-container-id-1 input.sk-hidden--visually {border: 0;clip: rect(1px 1px 1px 1px);clip: rect(1px, 1px, 1px, 1px);height: 1px;margin: -1px;overflow: hidden;padding: 0;position: absolute;width: 1px;}#sk-container-id-1 div.sk-estimator {font-family: monospace;background-color: #f0f8ff;border: 1px dotted black;border-radius: 0.25em;box-sizing: border-box;margin-bottom: 0.5em;}#sk-container-id-1 div.sk-estimator:hover {background-color: #d4ebff;}#sk-container-id-1 div.sk-parallel-item::after {content: \"\";width: 100%;border-bottom: 1px solid gray;flex-grow: 1;}#sk-container-id-1 div.sk-label:hover label.sk-toggleable__label {background-color: #d4ebff;}#sk-container-id-1 div.sk-serial::before {content: \"\";position: absolute;border-left: 1px solid gray;box-sizing: border-box;top: 0;bottom: 0;left: 50%;z-index: 0;}#sk-container-id-1 div.sk-serial {display: flex;flex-direction: column;align-items: center;background-color: white;padding-right: 0.2em;padding-left: 0.2em;position: relative;}#sk-container-id-1 div.sk-item {position: relative;z-index: 1;}#sk-container-id-1 div.sk-parallel {display: flex;align-items: stretch;justify-content: center;background-color: white;position: relative;}#sk-container-id-1 div.sk-item::before, #sk-container-id-1 div.sk-parallel-item::before {content: \"\";position: absolute;border-left: 1px solid gray;box-sizing: border-box;top: 0;bottom: 0;left: 50%;z-index: -1;}#sk-container-id-1 div.sk-parallel-item {display: flex;flex-direction: column;z-index: 1;position: relative;background-color: white;}#sk-container-id-1 div.sk-parallel-item:first-child::after {align-self: flex-end;width: 50%;}#sk-container-id-1 div.sk-parallel-item:last-child::after {align-self: flex-start;width: 50%;}#sk-container-id-1 div.sk-parallel-item:only-child::after {width: 0;}#sk-container-id-1 div.sk-dashed-wrapped {border: 1px dashed gray;margin: 0 0.4em 0.5em 0.4em;box-sizing: border-box;padding-bottom: 0.4em;background-color: white;}#sk-container-id-1 div.sk-label label {font-family: monospace;font-weight: bold;display: inline-block;line-height: 1.2em;}#sk-container-id-1 div.sk-label-container {text-align: center;}#sk-container-id-1 div.sk-container {/* jupyter's `normalize.less` sets `[hidden] { display: none; }` but bootstrap.min.css set `[hidden] { display: none !important; }` so we also need the `!important` here to be able to override the default hidden behavior on the sphinx rendered scikit-learn.org. See: https://github.com/scikit-learn/scikit-learn/issues/21755 */display: inline-block !important;position: relative;}#sk-container-id-1 div.sk-text-repr-fallback {display: none;}</style><div id=\"sk-container-id-1\" class=\"sk-top-container\"><div class=\"sk-text-repr-fallback\"><pre>HistGradientBoostingClassifier()</pre><b>In a Jupyter environment, please rerun this cell to show the HTML representation or trust the notebook. <br />On GitHub, the HTML representation is unable to render, please try loading this page with nbviewer.org.</b></div><div class=\"sk-container\" hidden><div class=\"sk-item\"><div class=\"sk-estimator sk-toggleable\"><input class=\"sk-toggleable__control sk-hidden--visually\" id=\"sk-estimator-id-1\" type=\"checkbox\" checked><label for=\"sk-estimator-id-1\" class=\"sk-toggleable__label sk-toggleable__label-arrow\">HistGradientBoostingClassifier</label><div class=\"sk-toggleable__content\"><pre>HistGradientBoostingClassifier()</pre></div></div></div></div></div>"
            ]
          },
          "metadata": {},
          "execution_count": 22
        }
      ],
      "source": [
        "# # Train a classifier\n",
        "# clf = HistGradientBoostingClassifier()\n",
        "# clf.fit(X_train, y_train)"
      ]
    },
    {
      "cell_type": "code",
      "source": [
        "xg = xgboost.XGBRegressor(n_estimators=200, max_depth=7, eta=0.1, subsample=0.7, colsample_bytree=0.8)\n",
        "xg.fit(X_train,y_train)\n",
        "# cv = RepeatedKFold(n_splits=10, n_repeats=3, random_state=1)\n",
        "# # evaluate model\n",
        "# scores = cross_val_score(xg, X, y, scoring='neg_mean_absolute_error', cv=cv, n_jobs=-1)"
      ],
      "metadata": {
        "id": "OdC9XLqZYqjG",
        "colab": {
          "base_uri": "https://localhost:8080/",
          "height": 248
        },
        "outputId": "9e4d698c-c2ee-459a-c212-4f570ede2069"
      },
      "execution_count": 25,
      "outputs": [
        {
          "output_type": "execute_result",
          "data": {
            "text/plain": [
              "XGBRegressor(base_score=None, booster=None, callbacks=None,\n",
              "             colsample_bylevel=None, colsample_bynode=None,\n",
              "             colsample_bytree=0.8, early_stopping_rounds=None,\n",
              "             enable_categorical=False, eta=0.1, eval_metric=None,\n",
              "             feature_types=None, gamma=None, gpu_id=None, grow_policy=None,\n",
              "             importance_type=None, interaction_constraints=None,\n",
              "             learning_rate=None, max_bin=None, max_cat_threshold=None,\n",
              "             max_cat_to_onehot=None, max_delta_step=None, max_depth=7,\n",
              "             max_leaves=None, min_child_weight=None, missing=nan,\n",
              "             monotone_constraints=None, n_estimators=200, n_jobs=None,\n",
              "             num_parallel_tree=None, predictor=None, ...)"
            ],
            "text/html": [
              "<style>#sk-container-id-1 {color: black;background-color: white;}#sk-container-id-1 pre{padding: 0;}#sk-container-id-1 div.sk-toggleable {background-color: white;}#sk-container-id-1 label.sk-toggleable__label {cursor: pointer;display: block;width: 100%;margin-bottom: 0;padding: 0.3em;box-sizing: border-box;text-align: center;}#sk-container-id-1 label.sk-toggleable__label-arrow:before {content: \"▸\";float: left;margin-right: 0.25em;color: #696969;}#sk-container-id-1 label.sk-toggleable__label-arrow:hover:before {color: black;}#sk-container-id-1 div.sk-estimator:hover label.sk-toggleable__label-arrow:before {color: black;}#sk-container-id-1 div.sk-toggleable__content {max-height: 0;max-width: 0;overflow: hidden;text-align: left;background-color: #f0f8ff;}#sk-container-id-1 div.sk-toggleable__content pre {margin: 0.2em;color: black;border-radius: 0.25em;background-color: #f0f8ff;}#sk-container-id-1 input.sk-toggleable__control:checked~div.sk-toggleable__content {max-height: 200px;max-width: 100%;overflow: auto;}#sk-container-id-1 input.sk-toggleable__control:checked~label.sk-toggleable__label-arrow:before {content: \"▾\";}#sk-container-id-1 div.sk-estimator input.sk-toggleable__control:checked~label.sk-toggleable__label {background-color: #d4ebff;}#sk-container-id-1 div.sk-label input.sk-toggleable__control:checked~label.sk-toggleable__label {background-color: #d4ebff;}#sk-container-id-1 input.sk-hidden--visually {border: 0;clip: rect(1px 1px 1px 1px);clip: rect(1px, 1px, 1px, 1px);height: 1px;margin: -1px;overflow: hidden;padding: 0;position: absolute;width: 1px;}#sk-container-id-1 div.sk-estimator {font-family: monospace;background-color: #f0f8ff;border: 1px dotted black;border-radius: 0.25em;box-sizing: border-box;margin-bottom: 0.5em;}#sk-container-id-1 div.sk-estimator:hover {background-color: #d4ebff;}#sk-container-id-1 div.sk-parallel-item::after {content: \"\";width: 100%;border-bottom: 1px solid gray;flex-grow: 1;}#sk-container-id-1 div.sk-label:hover label.sk-toggleable__label {background-color: #d4ebff;}#sk-container-id-1 div.sk-serial::before {content: \"\";position: absolute;border-left: 1px solid gray;box-sizing: border-box;top: 0;bottom: 0;left: 50%;z-index: 0;}#sk-container-id-1 div.sk-serial {display: flex;flex-direction: column;align-items: center;background-color: white;padding-right: 0.2em;padding-left: 0.2em;position: relative;}#sk-container-id-1 div.sk-item {position: relative;z-index: 1;}#sk-container-id-1 div.sk-parallel {display: flex;align-items: stretch;justify-content: center;background-color: white;position: relative;}#sk-container-id-1 div.sk-item::before, #sk-container-id-1 div.sk-parallel-item::before {content: \"\";position: absolute;border-left: 1px solid gray;box-sizing: border-box;top: 0;bottom: 0;left: 50%;z-index: -1;}#sk-container-id-1 div.sk-parallel-item {display: flex;flex-direction: column;z-index: 1;position: relative;background-color: white;}#sk-container-id-1 div.sk-parallel-item:first-child::after {align-self: flex-end;width: 50%;}#sk-container-id-1 div.sk-parallel-item:last-child::after {align-self: flex-start;width: 50%;}#sk-container-id-1 div.sk-parallel-item:only-child::after {width: 0;}#sk-container-id-1 div.sk-dashed-wrapped {border: 1px dashed gray;margin: 0 0.4em 0.5em 0.4em;box-sizing: border-box;padding-bottom: 0.4em;background-color: white;}#sk-container-id-1 div.sk-label label {font-family: monospace;font-weight: bold;display: inline-block;line-height: 1.2em;}#sk-container-id-1 div.sk-label-container {text-align: center;}#sk-container-id-1 div.sk-container {/* jupyter's `normalize.less` sets `[hidden] { display: none; }` but bootstrap.min.css set `[hidden] { display: none !important; }` so we also need the `!important` here to be able to override the default hidden behavior on the sphinx rendered scikit-learn.org. See: https://github.com/scikit-learn/scikit-learn/issues/21755 */display: inline-block !important;position: relative;}#sk-container-id-1 div.sk-text-repr-fallback {display: none;}</style><div id=\"sk-container-id-1\" class=\"sk-top-container\"><div class=\"sk-text-repr-fallback\"><pre>XGBRegressor(base_score=None, booster=None, callbacks=None,\n",
              "             colsample_bylevel=None, colsample_bynode=None,\n",
              "             colsample_bytree=0.8, early_stopping_rounds=None,\n",
              "             enable_categorical=False, eta=0.1, eval_metric=None,\n",
              "             feature_types=None, gamma=None, gpu_id=None, grow_policy=None,\n",
              "             importance_type=None, interaction_constraints=None,\n",
              "             learning_rate=None, max_bin=None, max_cat_threshold=None,\n",
              "             max_cat_to_onehot=None, max_delta_step=None, max_depth=7,\n",
              "             max_leaves=None, min_child_weight=None, missing=nan,\n",
              "             monotone_constraints=None, n_estimators=200, n_jobs=None,\n",
              "             num_parallel_tree=None, predictor=None, ...)</pre><b>In a Jupyter environment, please rerun this cell to show the HTML representation or trust the notebook. <br />On GitHub, the HTML representation is unable to render, please try loading this page with nbviewer.org.</b></div><div class=\"sk-container\" hidden><div class=\"sk-item\"><div class=\"sk-estimator sk-toggleable\"><input class=\"sk-toggleable__control sk-hidden--visually\" id=\"sk-estimator-id-1\" type=\"checkbox\" checked><label for=\"sk-estimator-id-1\" class=\"sk-toggleable__label sk-toggleable__label-arrow\">XGBRegressor</label><div class=\"sk-toggleable__content\"><pre>XGBRegressor(base_score=None, booster=None, callbacks=None,\n",
              "             colsample_bylevel=None, colsample_bynode=None,\n",
              "             colsample_bytree=0.8, early_stopping_rounds=None,\n",
              "             enable_categorical=False, eta=0.1, eval_metric=None,\n",
              "             feature_types=None, gamma=None, gpu_id=None, grow_policy=None,\n",
              "             importance_type=None, interaction_constraints=None,\n",
              "             learning_rate=None, max_bin=None, max_cat_threshold=None,\n",
              "             max_cat_to_onehot=None, max_delta_step=None, max_depth=7,\n",
              "             max_leaves=None, min_child_weight=None, missing=nan,\n",
              "             monotone_constraints=None, n_estimators=200, n_jobs=None,\n",
              "             num_parallel_tree=None, predictor=None, ...)</pre></div></div></div></div></div>"
            ]
          },
          "metadata": {},
          "execution_count": 25
        }
      ]
    },
    {
      "cell_type": "code",
      "source": [],
      "metadata": {
        "id": "A07Tb-PSYqbI"
      },
      "execution_count": null,
      "outputs": []
    },
    {
      "cell_type": "code",
      "execution_count": 26,
      "metadata": {
        "colab": {
          "base_uri": "https://localhost:8080/"
        },
        "id": "YZ4H-EeJA6nO",
        "outputId": "333a2d68-ddb7-4f06-fd2e-cb5f4a278788"
      },
      "outputs": [
        {
          "output_type": "execute_result",
          "data": {
            "text/plain": [
              "array([ 0.702589  , -0.00139002,  0.50005496, ...,  0.8769418 ,\n",
              "        0.918324  ,  0.00093863], dtype=float32)"
            ]
          },
          "metadata": {},
          "execution_count": 26
        }
      ],
      "source": [
        "# Make predictions on validation set\n",
        "y_pred = xg.predict(X_val)\n",
        "y_pred"
      ]
    },
    {
      "cell_type": "code",
      "source": [
        "import numpy as np\n",
        "yp = np.rint(y_pred)\n",
        "yp"
      ],
      "metadata": {
        "colab": {
          "base_uri": "https://localhost:8080/"
        },
        "id": "E2GZoGydpLAG",
        "outputId": "9cf7017b-f36c-43a3-c3bf-20a56f105f75"
      },
      "execution_count": 30,
      "outputs": [
        {
          "output_type": "execute_result",
          "data": {
            "text/plain": [
              "array([ 1., -0.,  1., ...,  1.,  1.,  0.], dtype=float32)"
            ]
          },
          "metadata": {},
          "execution_count": 30
        }
      ]
    },
    {
      "cell_type": "code",
      "source": [
        "np.unique(yp)"
      ],
      "metadata": {
        "colab": {
          "base_uri": "https://localhost:8080/"
        },
        "id": "4Rbgq6J-pvfl",
        "outputId": "77deb5be-89ea-47ca-cea1-a14dcf0535e4"
      },
      "execution_count": 31,
      "outputs": [
        {
          "output_type": "execute_result",
          "data": {
            "text/plain": [
              "array([0., 1.], dtype=float32)"
            ]
          },
          "metadata": {},
          "execution_count": 31
        }
      ]
    },
    {
      "cell_type": "code",
      "execution_count": 32,
      "metadata": {
        "colab": {
          "base_uri": "https://localhost:8080/"
        },
        "id": "8T6DxKCnkQ6n",
        "outputId": "448c7b33-7b25-46a8-8189-cdd6504fcc4e"
      },
      "outputs": [
        {
          "output_type": "stream",
          "name": "stdout",
          "text": [
            "Model accuracy: 0.9405827628576444\n"
          ]
        }
      ],
      "source": [
        "\n",
        "# Evaluate the model\n",
        "accuracy = accuracy_score(y_val, yp)\n",
        "print(f\"Model accuracy: {accuracy}\")\n"
      ]
    },
    {
      "cell_type": "code",
      "execution_count": 33,
      "metadata": {
        "id": "bvkvSh-Lfvo9"
      },
      "outputs": [],
      "source": [
        "# Create a DataFrame with IDs and predictions\n",
        "predictions_df = pd.DataFrame({'ID': X_val.index, 'IS_HCP': y_pred})\n",
        "\n",
        "# Save the DataFrame to a CSV file\n",
        "predictions_df.to_csv('predictions.csv', index=False)"
      ]
    },
    {
      "cell_type": "code",
      "source": [
        "train_data.shape"
      ],
      "metadata": {
        "colab": {
          "base_uri": "https://localhost:8080/"
        },
        "id": "rACSEMGFJCwl",
        "outputId": "0a3b120c-f0d5-407a-c4c0-fac7a57062f8"
      },
      "execution_count": 34,
      "outputs": [
        {
          "output_type": "execute_result",
          "data": {
            "text/plain": [
              "(113937, 1256)"
            ]
          },
          "metadata": {},
          "execution_count": 34
        }
      ]
    },
    {
      "cell_type": "code",
      "source": [
        "##TEST DATA\n",
        "test_data.head()"
      ],
      "metadata": {
        "colab": {
          "base_uri": "https://localhost:8080/",
          "height": 634
        },
        "id": "2jHR_gi_Ha7L",
        "outputId": "779809e5-6d08-4031-d9f6-8195c09fc2b1"
      },
      "execution_count": 35,
      "outputs": [
        {
          "output_type": "execute_result",
          "data": {
            "text/plain": [
              "       ID DEVICETYPE  PLATFORM_ID     BIDREQUESTIP  \\\n",
              "0  115501    Desktop            2   75.189.231.103   \n",
              "1  115502     Mobile            2    24.101.33.158   \n",
              "2  115503    Desktop            2  172.118.216.142   \n",
              "3  115504    Desktop            7   71.105.120.171   \n",
              "4  115505    Desktop            2     73.82.211.73   \n",
              "\n",
              "                        USERPLATFORMUID       USERCITY  USERZIPCODE  \\\n",
              "0  0d5041ff-f0b6-4d1a-9ad7-0a29f7d485b4   Fayetteville      28305.0   \n",
              "1  c8396dd0-969f-4d99-a40b-b7bb1f516154  Conneaut Lake      16316.0   \n",
              "2  3c97a081-6518-43f8-9f26-369759cfb471         Covina      91724.0   \n",
              "3  3e2578c8-f794-41af-a38c-c5cfb3c0f014       Brooklyn      11226.0   \n",
              "4  ec2ae7ce-6a8c-4156-98a7-07203e60f483       Marietta      30062.0   \n",
              "\n",
              "                                           USERAGENT            PLATFORMTYPE  \\\n",
              "0  Mozilla/5.0 (Macintosh; Intel Mac OS X 10_11_6...  Online Medical Journal   \n",
              "1  Mozilla/5.0 (iPhone; CPU iPhone OS 15_6_1 like...  Online Medical Journal   \n",
              "2  Mozilla/5.0 (Macintosh; Intel Mac OS X 10_15_7...  Online Medical Journal   \n",
              "3  Mozilla/5.0 (Macintosh; Intel Mac OS X 10_15_7...  Online Medical Journal   \n",
              "4  Mozilla/5.0 (Windows NT 10.0; Win64; x64) Appl...  Online Medical Journal   \n",
              "\n",
              "  CHANNELTYPE                                                URL  \\\n",
              "0     Website  https://www.clinicaladvisor.com/home/features/...   \n",
              "1     Website  https://www.ophthalmologyadvisor.com/topics/ca...   \n",
              "2     Website  https://www.psychiatryadvisor.com/author/tori-...   \n",
              "3     Website  https://www.cureus.com/articles/105482-diverti...   \n",
              "4     Website  https://www.renalandurologynews.com/home/confe...   \n",
              "\n",
              "                                            KEYWORDS  \n",
              "0  Family Practice|Drainage|Clinical|Dermatology|...  \n",
              "1  General|Clinical|Operative|Medicine|Cardiology...  \n",
              "2  Abortion|Anxiety Disorders|Apnea|False|Trauma|...  \n",
              "3  Health|Male|Neurological Surgery|Otolaryngolog...  \n",
              "4  chronic kidney disease|pain|nephrology|disease...  "
            ],
            "text/html": [
              "\n",
              "  <div id=\"df-4947d682-44b5-4e13-80f0-e30365d2c832\">\n",
              "    <div class=\"colab-df-container\">\n",
              "      <div>\n",
              "<style scoped>\n",
              "    .dataframe tbody tr th:only-of-type {\n",
              "        vertical-align: middle;\n",
              "    }\n",
              "\n",
              "    .dataframe tbody tr th {\n",
              "        vertical-align: top;\n",
              "    }\n",
              "\n",
              "    .dataframe thead th {\n",
              "        text-align: right;\n",
              "    }\n",
              "</style>\n",
              "<table border=\"1\" class=\"dataframe\">\n",
              "  <thead>\n",
              "    <tr style=\"text-align: right;\">\n",
              "      <th></th>\n",
              "      <th>ID</th>\n",
              "      <th>DEVICETYPE</th>\n",
              "      <th>PLATFORM_ID</th>\n",
              "      <th>BIDREQUESTIP</th>\n",
              "      <th>USERPLATFORMUID</th>\n",
              "      <th>USERCITY</th>\n",
              "      <th>USERZIPCODE</th>\n",
              "      <th>USERAGENT</th>\n",
              "      <th>PLATFORMTYPE</th>\n",
              "      <th>CHANNELTYPE</th>\n",
              "      <th>URL</th>\n",
              "      <th>KEYWORDS</th>\n",
              "    </tr>\n",
              "  </thead>\n",
              "  <tbody>\n",
              "    <tr>\n",
              "      <th>0</th>\n",
              "      <td>115501</td>\n",
              "      <td>Desktop</td>\n",
              "      <td>2</td>\n",
              "      <td>75.189.231.103</td>\n",
              "      <td>0d5041ff-f0b6-4d1a-9ad7-0a29f7d485b4</td>\n",
              "      <td>Fayetteville</td>\n",
              "      <td>28305.0</td>\n",
              "      <td>Mozilla/5.0 (Macintosh; Intel Mac OS X 10_11_6...</td>\n",
              "      <td>Online Medical Journal</td>\n",
              "      <td>Website</td>\n",
              "      <td>https://www.clinicaladvisor.com/home/features/...</td>\n",
              "      <td>Family Practice|Drainage|Clinical|Dermatology|...</td>\n",
              "    </tr>\n",
              "    <tr>\n",
              "      <th>1</th>\n",
              "      <td>115502</td>\n",
              "      <td>Mobile</td>\n",
              "      <td>2</td>\n",
              "      <td>24.101.33.158</td>\n",
              "      <td>c8396dd0-969f-4d99-a40b-b7bb1f516154</td>\n",
              "      <td>Conneaut Lake</td>\n",
              "      <td>16316.0</td>\n",
              "      <td>Mozilla/5.0 (iPhone; CPU iPhone OS 15_6_1 like...</td>\n",
              "      <td>Online Medical Journal</td>\n",
              "      <td>Website</td>\n",
              "      <td>https://www.ophthalmologyadvisor.com/topics/ca...</td>\n",
              "      <td>General|Clinical|Operative|Medicine|Cardiology...</td>\n",
              "    </tr>\n",
              "    <tr>\n",
              "      <th>2</th>\n",
              "      <td>115503</td>\n",
              "      <td>Desktop</td>\n",
              "      <td>2</td>\n",
              "      <td>172.118.216.142</td>\n",
              "      <td>3c97a081-6518-43f8-9f26-369759cfb471</td>\n",
              "      <td>Covina</td>\n",
              "      <td>91724.0</td>\n",
              "      <td>Mozilla/5.0 (Macintosh; Intel Mac OS X 10_15_7...</td>\n",
              "      <td>Online Medical Journal</td>\n",
              "      <td>Website</td>\n",
              "      <td>https://www.psychiatryadvisor.com/author/tori-...</td>\n",
              "      <td>Abortion|Anxiety Disorders|Apnea|False|Trauma|...</td>\n",
              "    </tr>\n",
              "    <tr>\n",
              "      <th>3</th>\n",
              "      <td>115504</td>\n",
              "      <td>Desktop</td>\n",
              "      <td>7</td>\n",
              "      <td>71.105.120.171</td>\n",
              "      <td>3e2578c8-f794-41af-a38c-c5cfb3c0f014</td>\n",
              "      <td>Brooklyn</td>\n",
              "      <td>11226.0</td>\n",
              "      <td>Mozilla/5.0 (Macintosh; Intel Mac OS X 10_15_7...</td>\n",
              "      <td>Online Medical Journal</td>\n",
              "      <td>Website</td>\n",
              "      <td>https://www.cureus.com/articles/105482-diverti...</td>\n",
              "      <td>Health|Male|Neurological Surgery|Otolaryngolog...</td>\n",
              "    </tr>\n",
              "    <tr>\n",
              "      <th>4</th>\n",
              "      <td>115505</td>\n",
              "      <td>Desktop</td>\n",
              "      <td>2</td>\n",
              "      <td>73.82.211.73</td>\n",
              "      <td>ec2ae7ce-6a8c-4156-98a7-07203e60f483</td>\n",
              "      <td>Marietta</td>\n",
              "      <td>30062.0</td>\n",
              "      <td>Mozilla/5.0 (Windows NT 10.0; Win64; x64) Appl...</td>\n",
              "      <td>Online Medical Journal</td>\n",
              "      <td>Website</td>\n",
              "      <td>https://www.renalandurologynews.com/home/confe...</td>\n",
              "      <td>chronic kidney disease|pain|nephrology|disease...</td>\n",
              "    </tr>\n",
              "  </tbody>\n",
              "</table>\n",
              "</div>\n",
              "      <button class=\"colab-df-convert\" onclick=\"convertToInteractive('df-4947d682-44b5-4e13-80f0-e30365d2c832')\"\n",
              "              title=\"Convert this dataframe to an interactive table.\"\n",
              "              style=\"display:none;\">\n",
              "        \n",
              "  <svg xmlns=\"http://www.w3.org/2000/svg\" height=\"24px\"viewBox=\"0 0 24 24\"\n",
              "       width=\"24px\">\n",
              "    <path d=\"M0 0h24v24H0V0z\" fill=\"none\"/>\n",
              "    <path d=\"M18.56 5.44l.94 2.06.94-2.06 2.06-.94-2.06-.94-.94-2.06-.94 2.06-2.06.94zm-11 1L8.5 8.5l.94-2.06 2.06-.94-2.06-.94L8.5 2.5l-.94 2.06-2.06.94zm10 10l.94 2.06.94-2.06 2.06-.94-2.06-.94-.94-2.06-.94 2.06-2.06.94z\"/><path d=\"M17.41 7.96l-1.37-1.37c-.4-.4-.92-.59-1.43-.59-.52 0-1.04.2-1.43.59L10.3 9.45l-7.72 7.72c-.78.78-.78 2.05 0 2.83L4 21.41c.39.39.9.59 1.41.59.51 0 1.02-.2 1.41-.59l7.78-7.78 2.81-2.81c.8-.78.8-2.07 0-2.86zM5.41 20L4 18.59l7.72-7.72 1.47 1.35L5.41 20z\"/>\n",
              "  </svg>\n",
              "      </button>\n",
              "      \n",
              "  <style>\n",
              "    .colab-df-container {\n",
              "      display:flex;\n",
              "      flex-wrap:wrap;\n",
              "      gap: 12px;\n",
              "    }\n",
              "\n",
              "    .colab-df-convert {\n",
              "      background-color: #E8F0FE;\n",
              "      border: none;\n",
              "      border-radius: 50%;\n",
              "      cursor: pointer;\n",
              "      display: none;\n",
              "      fill: #1967D2;\n",
              "      height: 32px;\n",
              "      padding: 0 0 0 0;\n",
              "      width: 32px;\n",
              "    }\n",
              "\n",
              "    .colab-df-convert:hover {\n",
              "      background-color: #E2EBFA;\n",
              "      box-shadow: 0px 1px 2px rgba(60, 64, 67, 0.3), 0px 1px 3px 1px rgba(60, 64, 67, 0.15);\n",
              "      fill: #174EA6;\n",
              "    }\n",
              "\n",
              "    [theme=dark] .colab-df-convert {\n",
              "      background-color: #3B4455;\n",
              "      fill: #D2E3FC;\n",
              "    }\n",
              "\n",
              "    [theme=dark] .colab-df-convert:hover {\n",
              "      background-color: #434B5C;\n",
              "      box-shadow: 0px 1px 3px 1px rgba(0, 0, 0, 0.15);\n",
              "      filter: drop-shadow(0px 1px 2px rgba(0, 0, 0, 0.3));\n",
              "      fill: #FFFFFF;\n",
              "    }\n",
              "  </style>\n",
              "\n",
              "      <script>\n",
              "        const buttonEl =\n",
              "          document.querySelector('#df-4947d682-44b5-4e13-80f0-e30365d2c832 button.colab-df-convert');\n",
              "        buttonEl.style.display =\n",
              "          google.colab.kernel.accessAllowed ? 'block' : 'none';\n",
              "\n",
              "        async function convertToInteractive(key) {\n",
              "          const element = document.querySelector('#df-4947d682-44b5-4e13-80f0-e30365d2c832');\n",
              "          const dataTable =\n",
              "            await google.colab.kernel.invokeFunction('convertToInteractive',\n",
              "                                                     [key], {});\n",
              "          if (!dataTable) return;\n",
              "\n",
              "          const docLinkHtml = 'Like what you see? Visit the ' +\n",
              "            '<a target=\"_blank\" href=https://colab.research.google.com/notebooks/data_table.ipynb>data table notebook</a>'\n",
              "            + ' to learn more about interactive tables.';\n",
              "          element.innerHTML = '';\n",
              "          dataTable['output_type'] = 'display_data';\n",
              "          await google.colab.output.renderOutput(dataTable, element);\n",
              "          const docLink = document.createElement('div');\n",
              "          docLink.innerHTML = docLinkHtml;\n",
              "          element.appendChild(docLink);\n",
              "        }\n",
              "      </script>\n",
              "    </div>\n",
              "  </div>\n",
              "  "
            ]
          },
          "metadata": {},
          "execution_count": 35
        }
      ]
    },
    {
      "cell_type": "code",
      "source": [
        "test_data.isnull().sum()"
      ],
      "metadata": {
        "colab": {
          "base_uri": "https://localhost:8080/"
        },
        "id": "UPsIM3LyHa4e",
        "outputId": "2b0c9819-e3d3-4bb1-ab2c-d28e687feac4"
      },
      "execution_count": null,
      "outputs": [
        {
          "output_type": "execute_result",
          "data": {
            "text/plain": [
              "ID                    0\n",
              "DEVICETYPE            0\n",
              "PLATFORM_ID           0\n",
              "BIDREQUESTIP          0\n",
              "USERPLATFORMUID       0\n",
              "USERCITY           1559\n",
              "USERZIPCODE        1115\n",
              "USERAGENT             1\n",
              "PLATFORMTYPE          0\n",
              "CHANNELTYPE           0\n",
              "URL                   0\n",
              "KEYWORDS              0\n",
              "dtype: int64"
            ]
          },
          "metadata": {},
          "execution_count": 27
        }
      ]
    },
    {
      "cell_type": "code",
      "source": [
        "df_test = pd.DataFrame(test_data)\n",
        "df_test"
      ],
      "metadata": {
        "colab": {
          "base_uri": "https://localhost:8080/",
          "height": 1000
        },
        "id": "9uvVxiBIHa1e",
        "outputId": "a2b16c2f-6b44-4dfc-d88e-a79d9e1e7d91"
      },
      "execution_count": 39,
      "outputs": [
        {
          "output_type": "execute_result",
          "data": {
            "text/plain": [
              "           ID DEVICETYPE  PLATFORM_ID     BIDREQUESTIP  \\\n",
              "0      115501    Desktop            2   75.189.231.103   \n",
              "1      115502     Mobile            2    24.101.33.158   \n",
              "2      115503    Desktop            2  172.118.216.142   \n",
              "3      115504    Desktop            7   71.105.120.171   \n",
              "4      115505    Desktop            2     73.82.211.73   \n",
              "...       ...        ...          ...              ...   \n",
              "28488  143989    Desktop            2   69.202.233.241   \n",
              "28489  143990    Desktop            7      75.4.190.65   \n",
              "28490  143991    Desktop            7    137.52.180.45   \n",
              "28491  143992    Desktop            8      66.249.66.4   \n",
              "28492  143993    Desktop            2   107.194.33.149   \n",
              "\n",
              "                            USERPLATFORMUID         USERCITY  USERZIPCODE  \\\n",
              "0      0d5041ff-f0b6-4d1a-9ad7-0a29f7d485b4     Fayetteville      28305.0   \n",
              "1      c8396dd0-969f-4d99-a40b-b7bb1f516154    Conneaut Lake      16316.0   \n",
              "2      3c97a081-6518-43f8-9f26-369759cfb471           Covina      91724.0   \n",
              "3      3e2578c8-f794-41af-a38c-c5cfb3c0f014         Brooklyn      11226.0   \n",
              "4      ec2ae7ce-6a8c-4156-98a7-07203e60f483         Marietta      30062.0   \n",
              "...                                     ...              ...          ...   \n",
              "28488  78ce4bbe-3885-4c14-b945-a0ea1e4574f4         Brooklyn      11215.0   \n",
              "28489  a53799e1-b279-40cf-b467-11b4d659e325            Miami      33178.0   \n",
              "28490  acc732a8-2ee9-4e2c-9933-70e34db48101  Fort Lauderdale      33314.0   \n",
              "28491  dce21294-b105-4abb-b145-4e62d71def44              NaN          NaN   \n",
              "28492  f9b193b0-82b0-4ac8-b24a-5635401ca934       Wilmington      28412.0   \n",
              "\n",
              "                                               USERAGENT  \\\n",
              "0      Mozilla/5.0 (Macintosh; Intel Mac OS X 10_11_6...   \n",
              "1      Mozilla/5.0 (iPhone; CPU iPhone OS 15_6_1 like...   \n",
              "2      Mozilla/5.0 (Macintosh; Intel Mac OS X 10_15_7...   \n",
              "3      Mozilla/5.0 (Macintosh; Intel Mac OS X 10_15_7...   \n",
              "4      Mozilla/5.0 (Windows NT 10.0; Win64; x64) Appl...   \n",
              "...                                                  ...   \n",
              "28488  Mozilla/5.0 (Windows NT 10.0; WOW64) AppleWebK...   \n",
              "28489  Mozilla/5.0 (Windows NT 10.0; Win64; x64) Appl...   \n",
              "28490  Mozilla/5.0 (Macintosh; Intel Mac OS X 10_15_7...   \n",
              "28491  Mozilla/5.0 (Linux; Android 6.0.1; Nexus 5X Bu...   \n",
              "28492  Mozilla/5.0 (Windows NT 10.0; Win64; x64) Appl...   \n",
              "\n",
              "                 PLATFORMTYPE CHANNELTYPE  \\\n",
              "0      Online Medical Journal     Website   \n",
              "1      Online Medical Journal     Website   \n",
              "2      Online Medical Journal     Website   \n",
              "3      Online Medical Journal     Website   \n",
              "4      Online Medical Journal     Website   \n",
              "...                       ...         ...   \n",
              "28488  Online Medical Journal     Website   \n",
              "28489  Online Medical Journal     Website   \n",
              "28490  Online Medical Journal     Website   \n",
              "28491  Online Medical Journal     Website   \n",
              "28492  Online Medical Journal     Website   \n",
              "\n",
              "                                                     URL  \\\n",
              "0      https://www.clinicaladvisor.com/home/features/...   \n",
              "1      https://www.ophthalmologyadvisor.com/topics/ca...   \n",
              "2      https://www.psychiatryadvisor.com/author/tori-...   \n",
              "3      https://www.cureus.com/articles/105482-diverti...   \n",
              "4      https://www.renalandurologynews.com/home/confe...   \n",
              "...                                                  ...   \n",
              "28488  https://www.renalandurologynews.com/home/news/...   \n",
              "28489  https://www.cureus.com/publish/articles/144818...   \n",
              "28490  https://www.cureus.com/registrations/continue?...   \n",
              "28491  https://radrounds.com/radiology-case-images-te...   \n",
              "28492  https://www.clinicalpainadvisor.com/regulatory...   \n",
              "\n",
              "                                                KEYWORDS  \n",
              "0      Family Practice|Drainage|Clinical|Dermatology|...  \n",
              "1      General|Clinical|Operative|Medicine|Cardiology...  \n",
              "2      Abortion|Anxiety Disorders|Apnea|False|Trauma|...  \n",
              "3      Health|Male|Neurological Surgery|Otolaryngolog...  \n",
              "4      chronic kidney disease|pain|nephrology|disease...  \n",
              "...                                                  ...  \n",
              "28488  Transplantation|Psychiatry|Heart Failure|Angio...  \n",
              "28489  small|hospitals|nephrology|emergency medicine|...  \n",
              "28490  small|hospitals|nephrology|emergency medicine|...  \n",
              "28491  the|disease|pain|radiology|lung abscess|dyspar...  \n",
              "28492  Medicine|General|Clinical|False|Urology|Total|...  \n",
              "\n",
              "[28493 rows x 12 columns]"
            ],
            "text/html": [
              "\n",
              "  <div id=\"df-f9341369-8c47-4d70-a1ef-472e02a84e1d\">\n",
              "    <div class=\"colab-df-container\">\n",
              "      <div>\n",
              "<style scoped>\n",
              "    .dataframe tbody tr th:only-of-type {\n",
              "        vertical-align: middle;\n",
              "    }\n",
              "\n",
              "    .dataframe tbody tr th {\n",
              "        vertical-align: top;\n",
              "    }\n",
              "\n",
              "    .dataframe thead th {\n",
              "        text-align: right;\n",
              "    }\n",
              "</style>\n",
              "<table border=\"1\" class=\"dataframe\">\n",
              "  <thead>\n",
              "    <tr style=\"text-align: right;\">\n",
              "      <th></th>\n",
              "      <th>ID</th>\n",
              "      <th>DEVICETYPE</th>\n",
              "      <th>PLATFORM_ID</th>\n",
              "      <th>BIDREQUESTIP</th>\n",
              "      <th>USERPLATFORMUID</th>\n",
              "      <th>USERCITY</th>\n",
              "      <th>USERZIPCODE</th>\n",
              "      <th>USERAGENT</th>\n",
              "      <th>PLATFORMTYPE</th>\n",
              "      <th>CHANNELTYPE</th>\n",
              "      <th>URL</th>\n",
              "      <th>KEYWORDS</th>\n",
              "    </tr>\n",
              "  </thead>\n",
              "  <tbody>\n",
              "    <tr>\n",
              "      <th>0</th>\n",
              "      <td>115501</td>\n",
              "      <td>Desktop</td>\n",
              "      <td>2</td>\n",
              "      <td>75.189.231.103</td>\n",
              "      <td>0d5041ff-f0b6-4d1a-9ad7-0a29f7d485b4</td>\n",
              "      <td>Fayetteville</td>\n",
              "      <td>28305.0</td>\n",
              "      <td>Mozilla/5.0 (Macintosh; Intel Mac OS X 10_11_6...</td>\n",
              "      <td>Online Medical Journal</td>\n",
              "      <td>Website</td>\n",
              "      <td>https://www.clinicaladvisor.com/home/features/...</td>\n",
              "      <td>Family Practice|Drainage|Clinical|Dermatology|...</td>\n",
              "    </tr>\n",
              "    <tr>\n",
              "      <th>1</th>\n",
              "      <td>115502</td>\n",
              "      <td>Mobile</td>\n",
              "      <td>2</td>\n",
              "      <td>24.101.33.158</td>\n",
              "      <td>c8396dd0-969f-4d99-a40b-b7bb1f516154</td>\n",
              "      <td>Conneaut Lake</td>\n",
              "      <td>16316.0</td>\n",
              "      <td>Mozilla/5.0 (iPhone; CPU iPhone OS 15_6_1 like...</td>\n",
              "      <td>Online Medical Journal</td>\n",
              "      <td>Website</td>\n",
              "      <td>https://www.ophthalmologyadvisor.com/topics/ca...</td>\n",
              "      <td>General|Clinical|Operative|Medicine|Cardiology...</td>\n",
              "    </tr>\n",
              "    <tr>\n",
              "      <th>2</th>\n",
              "      <td>115503</td>\n",
              "      <td>Desktop</td>\n",
              "      <td>2</td>\n",
              "      <td>172.118.216.142</td>\n",
              "      <td>3c97a081-6518-43f8-9f26-369759cfb471</td>\n",
              "      <td>Covina</td>\n",
              "      <td>91724.0</td>\n",
              "      <td>Mozilla/5.0 (Macintosh; Intel Mac OS X 10_15_7...</td>\n",
              "      <td>Online Medical Journal</td>\n",
              "      <td>Website</td>\n",
              "      <td>https://www.psychiatryadvisor.com/author/tori-...</td>\n",
              "      <td>Abortion|Anxiety Disorders|Apnea|False|Trauma|...</td>\n",
              "    </tr>\n",
              "    <tr>\n",
              "      <th>3</th>\n",
              "      <td>115504</td>\n",
              "      <td>Desktop</td>\n",
              "      <td>7</td>\n",
              "      <td>71.105.120.171</td>\n",
              "      <td>3e2578c8-f794-41af-a38c-c5cfb3c0f014</td>\n",
              "      <td>Brooklyn</td>\n",
              "      <td>11226.0</td>\n",
              "      <td>Mozilla/5.0 (Macintosh; Intel Mac OS X 10_15_7...</td>\n",
              "      <td>Online Medical Journal</td>\n",
              "      <td>Website</td>\n",
              "      <td>https://www.cureus.com/articles/105482-diverti...</td>\n",
              "      <td>Health|Male|Neurological Surgery|Otolaryngolog...</td>\n",
              "    </tr>\n",
              "    <tr>\n",
              "      <th>4</th>\n",
              "      <td>115505</td>\n",
              "      <td>Desktop</td>\n",
              "      <td>2</td>\n",
              "      <td>73.82.211.73</td>\n",
              "      <td>ec2ae7ce-6a8c-4156-98a7-07203e60f483</td>\n",
              "      <td>Marietta</td>\n",
              "      <td>30062.0</td>\n",
              "      <td>Mozilla/5.0 (Windows NT 10.0; Win64; x64) Appl...</td>\n",
              "      <td>Online Medical Journal</td>\n",
              "      <td>Website</td>\n",
              "      <td>https://www.renalandurologynews.com/home/confe...</td>\n",
              "      <td>chronic kidney disease|pain|nephrology|disease...</td>\n",
              "    </tr>\n",
              "    <tr>\n",
              "      <th>...</th>\n",
              "      <td>...</td>\n",
              "      <td>...</td>\n",
              "      <td>...</td>\n",
              "      <td>...</td>\n",
              "      <td>...</td>\n",
              "      <td>...</td>\n",
              "      <td>...</td>\n",
              "      <td>...</td>\n",
              "      <td>...</td>\n",
              "      <td>...</td>\n",
              "      <td>...</td>\n",
              "      <td>...</td>\n",
              "    </tr>\n",
              "    <tr>\n",
              "      <th>28488</th>\n",
              "      <td>143989</td>\n",
              "      <td>Desktop</td>\n",
              "      <td>2</td>\n",
              "      <td>69.202.233.241</td>\n",
              "      <td>78ce4bbe-3885-4c14-b945-a0ea1e4574f4</td>\n",
              "      <td>Brooklyn</td>\n",
              "      <td>11215.0</td>\n",
              "      <td>Mozilla/5.0 (Windows NT 10.0; WOW64) AppleWebK...</td>\n",
              "      <td>Online Medical Journal</td>\n",
              "      <td>Website</td>\n",
              "      <td>https://www.renalandurologynews.com/home/news/...</td>\n",
              "      <td>Transplantation|Psychiatry|Heart Failure|Angio...</td>\n",
              "    </tr>\n",
              "    <tr>\n",
              "      <th>28489</th>\n",
              "      <td>143990</td>\n",
              "      <td>Desktop</td>\n",
              "      <td>7</td>\n",
              "      <td>75.4.190.65</td>\n",
              "      <td>a53799e1-b279-40cf-b467-11b4d659e325</td>\n",
              "      <td>Miami</td>\n",
              "      <td>33178.0</td>\n",
              "      <td>Mozilla/5.0 (Windows NT 10.0; Win64; x64) Appl...</td>\n",
              "      <td>Online Medical Journal</td>\n",
              "      <td>Website</td>\n",
              "      <td>https://www.cureus.com/publish/articles/144818...</td>\n",
              "      <td>small|hospitals|nephrology|emergency medicine|...</td>\n",
              "    </tr>\n",
              "    <tr>\n",
              "      <th>28490</th>\n",
              "      <td>143991</td>\n",
              "      <td>Desktop</td>\n",
              "      <td>7</td>\n",
              "      <td>137.52.180.45</td>\n",
              "      <td>acc732a8-2ee9-4e2c-9933-70e34db48101</td>\n",
              "      <td>Fort Lauderdale</td>\n",
              "      <td>33314.0</td>\n",
              "      <td>Mozilla/5.0 (Macintosh; Intel Mac OS X 10_15_7...</td>\n",
              "      <td>Online Medical Journal</td>\n",
              "      <td>Website</td>\n",
              "      <td>https://www.cureus.com/registrations/continue?...</td>\n",
              "      <td>small|hospitals|nephrology|emergency medicine|...</td>\n",
              "    </tr>\n",
              "    <tr>\n",
              "      <th>28491</th>\n",
              "      <td>143992</td>\n",
              "      <td>Desktop</td>\n",
              "      <td>8</td>\n",
              "      <td>66.249.66.4</td>\n",
              "      <td>dce21294-b105-4abb-b145-4e62d71def44</td>\n",
              "      <td>NaN</td>\n",
              "      <td>NaN</td>\n",
              "      <td>Mozilla/5.0 (Linux; Android 6.0.1; Nexus 5X Bu...</td>\n",
              "      <td>Online Medical Journal</td>\n",
              "      <td>Website</td>\n",
              "      <td>https://radrounds.com/radiology-case-images-te...</td>\n",
              "      <td>the|disease|pain|radiology|lung abscess|dyspar...</td>\n",
              "    </tr>\n",
              "    <tr>\n",
              "      <th>28492</th>\n",
              "      <td>143993</td>\n",
              "      <td>Desktop</td>\n",
              "      <td>2</td>\n",
              "      <td>107.194.33.149</td>\n",
              "      <td>f9b193b0-82b0-4ac8-b24a-5635401ca934</td>\n",
              "      <td>Wilmington</td>\n",
              "      <td>28412.0</td>\n",
              "      <td>Mozilla/5.0 (Windows NT 10.0; Win64; x64) Appl...</td>\n",
              "      <td>Online Medical Journal</td>\n",
              "      <td>Website</td>\n",
              "      <td>https://www.clinicalpainadvisor.com/regulatory...</td>\n",
              "      <td>Medicine|General|Clinical|False|Urology|Total|...</td>\n",
              "    </tr>\n",
              "  </tbody>\n",
              "</table>\n",
              "<p>28493 rows × 12 columns</p>\n",
              "</div>\n",
              "      <button class=\"colab-df-convert\" onclick=\"convertToInteractive('df-f9341369-8c47-4d70-a1ef-472e02a84e1d')\"\n",
              "              title=\"Convert this dataframe to an interactive table.\"\n",
              "              style=\"display:none;\">\n",
              "        \n",
              "  <svg xmlns=\"http://www.w3.org/2000/svg\" height=\"24px\"viewBox=\"0 0 24 24\"\n",
              "       width=\"24px\">\n",
              "    <path d=\"M0 0h24v24H0V0z\" fill=\"none\"/>\n",
              "    <path d=\"M18.56 5.44l.94 2.06.94-2.06 2.06-.94-2.06-.94-.94-2.06-.94 2.06-2.06.94zm-11 1L8.5 8.5l.94-2.06 2.06-.94-2.06-.94L8.5 2.5l-.94 2.06-2.06.94zm10 10l.94 2.06.94-2.06 2.06-.94-2.06-.94-.94-2.06-.94 2.06-2.06.94z\"/><path d=\"M17.41 7.96l-1.37-1.37c-.4-.4-.92-.59-1.43-.59-.52 0-1.04.2-1.43.59L10.3 9.45l-7.72 7.72c-.78.78-.78 2.05 0 2.83L4 21.41c.39.39.9.59 1.41.59.51 0 1.02-.2 1.41-.59l7.78-7.78 2.81-2.81c.8-.78.8-2.07 0-2.86zM5.41 20L4 18.59l7.72-7.72 1.47 1.35L5.41 20z\"/>\n",
              "  </svg>\n",
              "      </button>\n",
              "      \n",
              "  <style>\n",
              "    .colab-df-container {\n",
              "      display:flex;\n",
              "      flex-wrap:wrap;\n",
              "      gap: 12px;\n",
              "    }\n",
              "\n",
              "    .colab-df-convert {\n",
              "      background-color: #E8F0FE;\n",
              "      border: none;\n",
              "      border-radius: 50%;\n",
              "      cursor: pointer;\n",
              "      display: none;\n",
              "      fill: #1967D2;\n",
              "      height: 32px;\n",
              "      padding: 0 0 0 0;\n",
              "      width: 32px;\n",
              "    }\n",
              "\n",
              "    .colab-df-convert:hover {\n",
              "      background-color: #E2EBFA;\n",
              "      box-shadow: 0px 1px 2px rgba(60, 64, 67, 0.3), 0px 1px 3px 1px rgba(60, 64, 67, 0.15);\n",
              "      fill: #174EA6;\n",
              "    }\n",
              "\n",
              "    [theme=dark] .colab-df-convert {\n",
              "      background-color: #3B4455;\n",
              "      fill: #D2E3FC;\n",
              "    }\n",
              "\n",
              "    [theme=dark] .colab-df-convert:hover {\n",
              "      background-color: #434B5C;\n",
              "      box-shadow: 0px 1px 3px 1px rgba(0, 0, 0, 0.15);\n",
              "      filter: drop-shadow(0px 1px 2px rgba(0, 0, 0, 0.3));\n",
              "      fill: #FFFFFF;\n",
              "    }\n",
              "  </style>\n",
              "\n",
              "      <script>\n",
              "        const buttonEl =\n",
              "          document.querySelector('#df-f9341369-8c47-4d70-a1ef-472e02a84e1d button.colab-df-convert');\n",
              "        buttonEl.style.display =\n",
              "          google.colab.kernel.accessAllowed ? 'block' : 'none';\n",
              "\n",
              "        async function convertToInteractive(key) {\n",
              "          const element = document.querySelector('#df-f9341369-8c47-4d70-a1ef-472e02a84e1d');\n",
              "          const dataTable =\n",
              "            await google.colab.kernel.invokeFunction('convertToInteractive',\n",
              "                                                     [key], {});\n",
              "          if (!dataTable) return;\n",
              "\n",
              "          const docLinkHtml = 'Like what you see? Visit the ' +\n",
              "            '<a target=\"_blank\" href=https://colab.research.google.com/notebooks/data_table.ipynb>data table notebook</a>'\n",
              "            + ' to learn more about interactive tables.';\n",
              "          element.innerHTML = '';\n",
              "          dataTable['output_type'] = 'display_data';\n",
              "          await google.colab.output.renderOutput(dataTable, element);\n",
              "          const docLink = document.createElement('div');\n",
              "          docLink.innerHTML = docLinkHtml;\n",
              "          element.appendChild(docLink);\n",
              "        }\n",
              "      </script>\n",
              "    </div>\n",
              "  </div>\n",
              "  "
            ]
          },
          "metadata": {},
          "execution_count": 39
        }
      ]
    },
    {
      "cell_type": "code",
      "source": [
        "# Encode categorical columns\n",
        "for col in categorical_cols:\n",
        "    if col in df_test.columns:\n",
        "        df_test[col] = label_encoder.fit_transform(df_test[col])"
      ],
      "metadata": {
        "id": "yEHs0CDQXw18"
      },
      "execution_count": 40,
      "outputs": []
    },
    {
      "cell_type": "code",
      "source": [
        "# Convert IP addresses to integers\n",
        "df_test['BIDREQUESTIP'] = df_test['BIDREQUESTIP'].apply(ip_to_int)\n",
        "\n",
        "# Drop the URL and TAXONOMY column\n",
        "if 'URL' in df_test.columns:\n",
        "    df_test = df_test.drop(columns=['URL'])\n",
        "if 'TAXONOMY' in df_test.columns:\n",
        "    df_test = df_test.drop(columns=['TAXONOMY'])"
      ],
      "metadata": {
        "id": "pGW7AhDLXwzQ"
      },
      "execution_count": 41,
      "outputs": []
    },
    {
      "cell_type": "code",
      "source": [
        "# Vectorize 'KEYWORDS' column\n",
        "vector = vectorizer.transform(df_test['KEYWORDS'])\n",
        "tfidf_data = pd.DataFrame(vector.toarray(), columns=vectorizer.get_feature_names_out())"
      ],
      "metadata": {
        "id": "Dk19AA84Xwwv"
      },
      "execution_count": 42,
      "outputs": []
    },
    {
      "cell_type": "code",
      "source": [
        "# Drop the original 'KEYWORDS' column and combine with processed text data\n",
        "df_test = df_test.drop(columns=['KEYWORDS'])\n",
        "df_test = pd.concat([df_test, tfidf_data], axis=1)\n",
        "\n",
        "# Dropping IS_HCP\n",
        "X_test = df_test.drop(columns=['ID'])"
      ],
      "metadata": {
        "id": "3HKwPsOWXwuT"
      },
      "execution_count": 43,
      "outputs": []
    },
    {
      "cell_type": "code",
      "source": [
        "# Make predictions on test data\n",
        "test_predictions = xg.predict(X_test)"
      ],
      "metadata": {
        "id": "1TM6ISjBXwrh"
      },
      "execution_count": 47,
      "outputs": []
    },
    {
      "cell_type": "code",
      "source": [
        "test_predictions = np.rint(test_predictions)"
      ],
      "metadata": {
        "id": "59JVQyFDqNRM"
      },
      "execution_count": 48,
      "outputs": []
    },
    {
      "cell_type": "code",
      "source": [
        "# Filter predictions for the specified ID range\n",
        "start_id = 115501\n",
        "end_id = 143993\n",
        "predictions_df = predictions_df[(predictions_df['ID'] >= start_id) & (predictions_df['ID'] <= end_id)]"
      ],
      "metadata": {
        "id": "r1hDOmBCXwos"
      },
      "execution_count": 49,
      "outputs": []
    },
    {
      "cell_type": "code",
      "source": [
        "# Create a mask for IDs in the given range\n",
        "mask = (df_test['ID'] >= start_id) & (df_test['ID'] <= end_id)\n",
        "\n",
        "# Filter the test data using the mask\n",
        "filtered_df_test = df_test[mask]\n",
        "\n",
        "# Get the features for the filtered test data\n",
        "X_test = filtered_df_test.drop(columns=['ID'])"
      ],
      "metadata": {
        "id": "nJRLvWdDYGtN"
      },
      "execution_count": 50,
      "outputs": []
    },
    {
      "cell_type": "code",
      "source": [
        "\n",
        "\n",
        "# Make predictions on the filtered test data\n",
        "filtered_test_predictions = xg.predict(X_test)"
      ],
      "metadata": {
        "id": "TP0MQYGgYGq3"
      },
      "execution_count": 51,
      "outputs": []
    },
    {
      "cell_type": "code",
      "source": [
        "filtered_test_predictions = np.rint(filtered_test_predictions)"
      ],
      "metadata": {
        "id": "EzF6p2DWqVPk"
      },
      "execution_count": 52,
      "outputs": []
    },
    {
      "cell_type": "code",
      "source": [
        "# Save the filtered predictions to a CSV file\n",
        "filtered_output = pd.DataFrame({\"ID\": filtered_df_test[\"ID\"], \"IS_HCP\": filtered_test_predictions})\n",
        "filtered_output.to_csv(\"Filtered_Test_Predictions2.csv\", index=False)"
      ],
      "metadata": {
        "id": "XcteFgFzYGov"
      },
      "execution_count": 53,
      "outputs": []
    },
    {
      "cell_type": "code",
      "source": [],
      "metadata": {
        "id": "WpzrYmV2Ki7V"
      },
      "execution_count": null,
      "outputs": []
    }
  ],
  "metadata": {
    "colab": {
      "provenance": [],
      "gpuType": "T4"
    },
    "kernelspec": {
      "display_name": "Python 3",
      "name": "python3"
    },
    "language_info": {
      "codemirror_mode": {
        "name": "ipython",
        "version": 3
      },
      "file_extension": ".py",
      "mimetype": "text/x-python",
      "name": "python",
      "nbconvert_exporter": "python",
      "pygments_lexer": "ipython3",
      "version": "3.10.2"
    },
    "accelerator": "GPU"
  },
  "nbformat": 4,
  "nbformat_minor": 0
}